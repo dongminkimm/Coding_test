{
 "cells": [
  {
   "cell_type": "code",
   "execution_count": 20,
   "id": "bdfb4852",
   "metadata": {},
   "outputs": [
    {
     "name": "stdout",
     "output_type": "stream",
     "text": [
      "4\n",
      "2\n"
     ]
    }
   ],
   "source": [
    "x = int(input())\n",
    "\n",
    "cnt = 0\n",
    "\n",
    "while x >= 0:\n",
    "    if x % 5 == 0:\n",
    "        cnt += x // 5\n",
    "        print(cnt)\n",
    "        break\n",
    "    x -= 3\n",
    "    cnt += 1\n",
    "else:\n",
    "    print(-1)"
   ]
  }
 ],
 "metadata": {
  "kernelspec": {
   "display_name": "Python 3 (ipykernel)",
   "language": "python",
   "name": "python3"
  },
  "language_info": {
   "codemirror_mode": {
    "name": "ipython",
    "version": 3
   },
   "file_extension": ".py",
   "mimetype": "text/x-python",
   "name": "python",
   "nbconvert_exporter": "python",
   "pygments_lexer": "ipython3",
   "version": "3.9.18"
  }
 },
 "nbformat": 4,
 "nbformat_minor": 5
}
