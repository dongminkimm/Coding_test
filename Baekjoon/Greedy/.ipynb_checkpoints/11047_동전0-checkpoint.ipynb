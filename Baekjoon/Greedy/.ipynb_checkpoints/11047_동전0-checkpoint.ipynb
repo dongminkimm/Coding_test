{
 "cells": [
  {
   "cell_type": "code",
   "execution_count": 4,
   "id": "86be822d",
   "metadata": {},
   "outputs": [
    {
     "name": "stdout",
     "output_type": "stream",
     "text": [
      "10 4200\n",
      "1\n",
      "5\n",
      "10\n",
      "50\n",
      "100\n",
      "500\n",
      "1000\n",
      "5000\n",
      "10000\n",
      "50000\n",
      "6\n"
     ]
    },
    {
     "data": {
      "text/plain": [
       "'\\n10 4200\\n1\\n5\\n10\\n50\\n100\\n500\\n1000\\n5000\\n10000\\n50000\\n'"
      ]
     },
     "execution_count": 4,
     "metadata": {},
     "output_type": "execute_result"
    }
   ],
   "source": [
    "n, k = map(int, input().split())\n",
    "data = []\n",
    "for _ in range(n):\n",
    "    data.append(int(input()))\n",
    "\n",
    "data.sort(reverse=True)\n",
    "\n",
    "result = 0\n",
    "for i in data:\n",
    "    if k >= i:\n",
    "        result += k // i\n",
    "        k %= i\n",
    "print(result)"
   ]
  }
 ],
 "metadata": {
  "kernelspec": {
   "display_name": "Python 3 (ipykernel)",
   "language": "python",
   "name": "python3"
  },
  "language_info": {
   "codemirror_mode": {
    "name": "ipython",
    "version": 3
   },
   "file_extension": ".py",
   "mimetype": "text/x-python",
   "name": "python",
   "nbconvert_exporter": "python",
   "pygments_lexer": "ipython3",
   "version": "3.9.18"
  }
 },
 "nbformat": 4,
 "nbformat_minor": 5
}
